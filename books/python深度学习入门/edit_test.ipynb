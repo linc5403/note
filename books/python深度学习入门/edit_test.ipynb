{
 "cells": [
  {
   "cell_type": "code",
   "execution_count": 38,
   "metadata": {},
   "outputs": [
    {
     "data": {
      "text/latex": [
       "\\[ y_{k} = \\dfrac{exp(a_{k})}{\\Sigma_{i=1}^{n}\\, \\exp(a_{i})}\\ \\]"
      ],
      "text/plain": [
       "<IPython.core.display.Latex object>"
      ]
     },
     "metadata": {},
     "output_type": "display_data"
    }
   ],
   "source": [
    "%%latex\n",
    "\\[ y_{k} = \\dfrac{exp(a_{k})}{\\Sigma_{i=1}^{n}\\, \\exp(a_{i})}\\ \\]"
   ]
  },
  {
   "cell_type": "code",
   "execution_count": 39,
   "metadata": {},
   "outputs": [
    {
     "data": {
      "text/latex": [
       "\\[ y_{k} = \\frac{exp(a_{k} - a_{max})}{\\sum_{i=1}^{n}\\, \\exp(a_{i} - a_{max})}\\ \\]"
      ],
      "text/plain": [
       "<IPython.core.display.Latex object>"
      ]
     },
     "metadata": {},
     "output_type": "display_data"
    }
   ],
   "source": [
    "%%latex\n",
    "\\[ y_{k} = \\frac{exp(a_{k} - a_{max})}{\\sum_{i=1}^{n}\\, \\exp(a_{i} - a_{max})}\\ \\]"
   ]
  },
  {
   "cell_type": "code",
   "execution_count": 33,
   "metadata": {},
   "outputs": [
    {
     "data": {
      "text/latex": [
       "\\[ y_{k} = \\frac{\\mathbf{e}^{a_{k}}}{\\Sigma_{i=1}^{n}\\, \\mathbf{e}^{a_{i}}}\\ \\]"
      ],
      "text/plain": [
       "<IPython.core.display.Latex object>"
      ]
     },
     "metadata": {},
     "output_type": "display_data"
    }
   ],
   "source": [
    "%%latex\n",
    "\\[ y_{k} = \\frac{\\mathbf{e}^{a_{k}}}{\\Sigma_{i=1}^{n}\\, \\mathbf{e}^{a_{i}}}\\ \\]"
   ]
  },
  {
   "cell_type": "code",
   "execution_count": 5,
   "metadata": {},
   "outputs": [
    {
     "data": {
      "text/latex": [
       "\\begin{eqnarray}\n",
       "\\nabla \\times \\vec{\\mathbf{B}} -\\, \\frac1c\\, \\frac{\\partial\\vec{\\mathbf{E}}}{\\partial t} & = \\frac{4\\pi}{c}\\vec{\\mathbf{j}} \\\\\n",
       "\\nabla \\cdot \\vec{\\mathbf{E}} & = 4 \\pi \\rho \\\\\n",
       "\\nabla \\times \\vec{\\mathbf{E}}\\, +\\, \\frac1c\\, \\frac{\\partial\\vec{\\mathbf{B}}}{\\partial t} & = \\vec{\\mathbf{0}} \\\\\n",
       "\\nabla \\cdot \\vec{\\mathbf{B}} & = 0 \n",
       "\\end{eqnarray}"
      ],
      "text/plain": [
       "<IPython.core.display.Latex object>"
      ]
     },
     "metadata": {},
     "output_type": "display_data"
    }
   ],
   "source": [
    "%%latex\n",
    "\\begin{eqnarray}\n",
    "\\nabla \\times \\vec{\\mathbf{B}} -\\, \\frac1c\\, \\frac{\\partial\\vec{\\mathbf{E}}}{\\partial t} & = \\frac{4\\pi}{c}\\vec{\\mathbf{j}} \\\\\n",
    "\\nabla \\cdot \\vec{\\mathbf{E}} & = 4 \\pi \\rho \\\\\n",
    "\\nabla \\times \\vec{\\mathbf{E}}\\, +\\, \\frac1c\\, \\frac{\\partial\\vec{\\mathbf{B}}}{\\partial t} & = \\vec{\\mathbf{0}} \\\\\n",
    "\\nabla \\cdot \\vec{\\mathbf{B}} & = 0 \n",
    "\\end{eqnarray}"
   ]
  },
  {
   "cell_type": "code",
   "execution_count": 6,
   "metadata": {},
   "outputs": [
    {
     "data": {
      "text/latex": [
       "Einstein's $E=mc^2$ \\[ E=mc^2 \\]\n",
       "\\[ \\boxed{E=mc^2} \\] \\begin{equation}\n",
       "E=mc^2 \\end{equation}"
      ],
      "text/plain": [
       "<IPython.core.display.Latex object>"
      ]
     },
     "metadata": {},
     "output_type": "display_data"
    }
   ],
   "source": [
    "%%latex\n",
    "Einstein's $E=mc^2$ \\[ E=mc^2 \\]\n",
    "\\[ \\boxed{E=mc^2} \\] \\begin{equation}\n",
    "E=mc^2 \\end{equation}"
   ]
  },
  {
   "cell_type": "code",
   "execution_count": 4,
   "metadata": {
    "scrolled": true
   },
   "outputs": [
    {
     "data": {
      "text/latex": [
       "$\\begin{array}{lcl} \n",
       "P(A|B)&=&\\dfrac{P(B|A)P(A)}{P(B|A)P(A)+P(B|C)P(C)}\n",
       "\\\\ &=&\\dfrac{1/2\\times 1/3}{1/2\\times 1/3+1\\times 1/3}\n",
       "\\\\ &=&\\dfrac{1}{3} \n",
       "\\end{array}$ \n"
      ],
      "text/plain": [
       "<IPython.core.display.Latex object>"
      ]
     },
     "metadata": {},
     "output_type": "display_data"
    }
   ],
   "source": [
    "%%latex\n",
    "$\\begin{array}{lcl} \n",
    "P(A|B)&=&\\dfrac{P(B|A)P(A)}{P(B|A)P(A)+P(B|C)P(C)}\n",
    "\\\\ &=&\\dfrac{1/2\\times 1/3}{1/2\\times 1/3+1\\times 1/3}\n",
    "\\\\ &=&\\dfrac{1}{3} \n",
    "\\end{array}$ "
   ]
  },
  {
   "cell_type": "code",
   "execution_count": null,
   "metadata": {},
   "outputs": [],
   "source": []
  }
 ],
 "metadata": {
  "kernelspec": {
   "display_name": "Python 3",
   "language": "python",
   "name": "python3"
  },
  "language_info": {
   "codemirror_mode": {
    "name": "ipython",
    "version": 3
   },
   "file_extension": ".py",
   "mimetype": "text/x-python",
   "name": "python",
   "nbconvert_exporter": "python",
   "pygments_lexer": "ipython3",
   "version": "3.7.1"
  }
 },
 "nbformat": 4,
 "nbformat_minor": 2
}
