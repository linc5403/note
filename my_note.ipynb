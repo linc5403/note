{
  "nbformat": 4,
  "nbformat_minor": 0,
  "metadata": {
    "colab": {
      "name": "my_note.ipynb",
      "version": "0.3.2",
      "provenance": [],
      "toc_visible": true,
      "include_colab_link": true
    },
    "kernelspec": {
      "name": "python3",
      "display_name": "Python 3"
    },
    "accelerator": "TPU"
  },
  "cells": [
    {
      "cell_type": "markdown",
      "metadata": {
        "id": "view-in-github",
        "colab_type": "text"
      },
      "source": [
        "<a href=\"https://colab.research.google.com/github/linc5403/note/blob/master/my_note.ipynb\" target=\"_parent\"><img src=\"https://colab.research.google.com/assets/colab-badge.svg\" alt=\"Open In Colab\"/></a>"
      ]
    },
    {
      "cell_type": "markdown",
      "metadata": {
        "id": "gSVvrRtTav5l",
        "colab_type": "text"
      },
      "source": [
        "# 绘图的示例"
      ]
    },
    {
      "cell_type": "code",
      "metadata": {
        "id": "1OmQkOjfZsM5",
        "colab_type": "code",
        "colab": {}
      },
      "source": [
        "# for import numpy and others libs\n",
        "import numpy as np\n",
        "import matplotlib.pyplot as plt\n",
        "from mpl_toolkits.mplot3d import Axes3D\n",
        "# %matplotlib notebook"
      ],
      "execution_count": 0,
      "outputs": []
    },
    {
      "cell_type": "code",
      "metadata": {
        "id": "Derqf5CPaK5B",
        "colab_type": "code",
        "colab": {}
      },
      "source": [
        "x, y, z = np.random.randn(3, 100)\n",
        "fig = plt.figure()\n",
        "ax = fig.gca(projection='3d')\n",
        "sc = ax.scatter(x, y, z, c=np.random.rand(100))\n",
        "plt.colorbar(sc)\n",
        "plt.show()"
      ],
      "execution_count": 0,
      "outputs": []
    },
    {
      "cell_type": "code",
      "metadata": {
        "id": "5zKxKpU4zkGR",
        "colab_type": "code",
        "colab": {}
      },
      "source": [
        "!mkdir -p drive"
      ],
      "execution_count": 0,
      "outputs": []
    },
    {
      "cell_type": "code",
      "metadata": {
        "id": "-yY5hls50Rrz",
        "colab_type": "code",
        "colab": {}
      },
      "source": [
        "from google.colab import drive\n",
        "drive.mount('/content/drive/')"
      ],
      "execution_count": 0,
      "outputs": []
    },
    {
      "cell_type": "code",
      "metadata": {
        "id": "ugpA3yo9L_MF",
        "colab_type": "code",
        "colab": {}
      },
      "source": [
        "!ls \"/content/drive/My Drive/新建文件夹\""
      ],
      "execution_count": 0,
      "outputs": []
    },
    {
      "cell_type": "code",
      "metadata": {
        "id": "DlksebMdmbaj",
        "colab_type": "code",
        "colab": {}
      },
      "source": [
        "# Import `datasets` from `sklearn`\n",
        "from sklearn import datasets\n",
        "\n",
        "# Load in the `digits` data\n",
        "digits = datasets.load_digits()\n",
        "\n",
        "# Print the `digits` data \n",
        "print(digits)"
      ],
      "execution_count": 0,
      "outputs": []
    },
    {
      "cell_type": "code",
      "metadata": {
        "id": "Po8GWvZEmv6N",
        "colab_type": "code",
        "colab": {}
      },
      "source": [
        "# Import matplotlib\n",
        "import matplotlib.pyplot as plt\n",
        "\n",
        "# Figure size (width, height) in inches\n",
        "fig = plt.figure(figsize=(6, 6))\n",
        "\n",
        "# Adjust the subplots \n",
        "fig.subplots_adjust(left=0, right=1, bottom=0, top=1, hspace=0.05, wspace=0.05)\n",
        "\n",
        "# For each of the 64 images\n",
        "for i in range(64):\n",
        "    # Initialize the subplots: add a subplot in the grid of 8 by 8, at the i+1-th position\n",
        "    ax = fig.add_subplot(8, 8, i + 1, xticks=[], yticks=[])\n",
        "    # Display an image at the i-th position\n",
        "    ax.imshow(digits.images[i], cmap=plt.cm.binary, interpolation='nearest')\n",
        "    # label the image with the target value\n",
        "    ax.text(0, 7, str(digits.target[i]))\n",
        "\n",
        "# Show the plot\n",
        "plt.show()"
      ],
      "execution_count": 0,
      "outputs": []
    },
    {
      "cell_type": "code",
      "metadata": {
        "id": "LT4zQPPvnJRC",
        "colab_type": "code",
        "colab": {}
      },
      "source": [
        "# Import matplotlib\n",
        "import matplotlib.pyplot as plt \n",
        "\n",
        "# Join the images and target labels in a list\n",
        "images_and_labels = list(zip(digits.images, digits.target))\n",
        "\n",
        "# for every element in the list\n",
        "for index, (image, label) in enumerate(images_and_labels[:8]):\n",
        "    # initialize a subplot of 2X4 at the i+1-th position\n",
        "    plt.subplot(2, 4, index + 1)\n",
        "    # Don't plot any axes\n",
        "    plt.axis('off')\n",
        "    # Display images in all subplots \n",
        "    plt.imshow(image, cmap=plt.cm.gray_r,interpolation='nearest')\n",
        "    # Add a title to each subplot\n",
        "    plt.title('Training: ' + str(label))\n",
        "\n",
        "# Show the plot\n",
        "plt.show()"
      ],
      "execution_count": 0,
      "outputs": []
    },
    {
      "cell_type": "code",
      "metadata": {
        "id": "TcqgKnu5nVKt",
        "colab_type": "code",
        "colab": {}
      },
      "source": [
        "from sklearn.decomposition import PCA\n",
        "# Create a Randomized PCA model that takes two components\n",
        "randomized_pca = PCA(svd_solver='randomized', n_components=2)\n",
        "\n",
        "# Fit and transform the data to the model\n",
        "reduced_data_rpca = randomized_pca.fit_transform(digits.data)\n",
        "\n",
        "# Create a regular PCA model \n",
        "pca = PCA(n_components=2)\n",
        "\n",
        "# Fit and transform the data to the model\n",
        "reduced_data_pca = pca.fit_transform(digits.data)\n",
        "colors = ['black', 'blue', 'purple', 'yellow', 'white', 'red', 'lime', 'cyan', 'orange', 'gray']\n",
        "for i in range(len(colors)):\n",
        "    x = reduced_data_rpca[:, 0][digits.target == i]\n",
        "    y = reduced_data_rpca[:, 1][digits.target == i]\n",
        "    plt.scatter(x, y, c=colors[i])\n",
        "plt.legend(digits.target_names, bbox_to_anchor=(1.05, 1), loc=2, borderaxespad=0.)\n",
        "plt.xlabel('First Principal Component')\n",
        "plt.ylabel('Second Principal Component')\n",
        "plt.title(\"PCA Scatter Plot\")\n",
        "plt.show()"
      ],
      "execution_count": 0,
      "outputs": []
    }
  ]
}